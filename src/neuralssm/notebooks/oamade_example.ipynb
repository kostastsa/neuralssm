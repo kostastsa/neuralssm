{
 "cells": [
  {
   "cell_type": "code",
   "execution_count": 1,
   "metadata": {},
   "outputs": [],
   "source": [
    "import sys \n",
    "sys.path.append('r/Users/kostastsampourakis/Desktop/code/Python/projects/neuralssm')\n",
    "from flax import nnx\n",
    "import jax.numpy as jnp\n",
    "import jax.random as jr\n",
    "import jax\n",
    "from jax import vmap, jit\n",
    "from flax import linen as nn\n",
    "import matplotlib.pyplot as plt # creating visualizations\n",
    "from functools import partial"
   ]
  },
  {
   "cell_type": "markdown",
   "metadata": {},
   "source": [
    "### Generate Data"
   ]
  },
  {
   "cell_type": "code",
   "execution_count": 2,
   "metadata": {},
   "outputs": [
    {
     "data": {
      "image/png": "[encoded data removed]",
      "text/plain": [
       "<Figure size 300x300 with 1 Axes>"
      ]
     },
     "metadata": {},
     "output_type": "display_data"
    }
   ],
   "source": [
    "def generate_data_curved(key, n_samples):\n",
    "  keys = jr.split(key, 2)\n",
    "  epsilon = jr.normal(keys[0], shape=(n_samples, ))\n",
    "  x_data = jr.uniform(keys[1], (n_samples, ), minval=-10.5, maxval=10.5)\n",
    "  y_data = 7*jnp.sin(0.75*x_data) + 0.5*x_data + epsilon\n",
    "  return jnp.array([x_data, y_data])\n",
    "\n",
    "def generate_data_nl_gaussian(key, n_samples):\n",
    "  keys = jr.split(key, 2)\n",
    "  u  = jr.normal(keys[0], shape=(n_samples, 2))\n",
    "  x = 2 * u[:, 0]\n",
    "  y = x ** 2 / 4 + u[:, 1]\n",
    "  return jnp.array([y, x])\n",
    "  \n",
    "n_samples = batch_size = 10 # just use train everything in a batch\n",
    "data = generate_data_curved(jr.PRNGKey(0), n_samples).T\n",
    "# x_data = jnp.array(x_data.reshape(batch_size, 1))\n",
    "# y_data = jnp.array(y_data.reshape(batch_size, 1))\n",
    "\n",
    "# plot the original data and the test data\n",
    "plt.figure(figsize=(3, 3))\n",
    "plt.scatter(data[:,0], data[:,1], alpha=0.2)\n",
    "plt.show()"
   ]
  },
  {
   "cell_type": "markdown",
   "metadata": {},
   "source": [
    "### MADE dev (introduce order-agnostic training)"
   ]
  },
  {
   "cell_type": "code",
   "execution_count": 3,
   "metadata": {},
   "outputs": [],
   "source": [
    "@partial(jit, static_argnums=(1,2,3))\n",
    "def create_degrees(key, din, dhidden, nhidden):\n",
    "    \"\"\"\n",
    "    Generates a degree for each hidden and input unit. A unit with degree d can only receive input from units with\n",
    "    degree less than d.\n",
    "    :param n_inputs: the number of inputs\n",
    "    :param n_hiddens: a list with the number of hidden units\n",
    "    :param input_order: the order of the inputs; can be 'random', 'sequential', or an array of an explicit order\n",
    "    :param mode: the strategy for assigning degrees to hidden nodes: can be 'random' or 'sequential'\n",
    "    :return: list of degrees\n",
    "    \"\"\"\n",
    "\n",
    "    degrees = []\n",
    "    keys = jr.split(key, nhidden + 1)\n",
    "\n",
    "    degrees_0 = jnp.arange(1, din + 1)\n",
    "    # degrees_0 = jr.permutation(keys[0], degrees_0, independent=True)\n",
    "    degrees.append(degrees_0)\n",
    "\n",
    "    for n in range(nhidden):\n",
    "        min_prev_degree = jnp.min(jnp.array([jnp.min(degrees[-1]), din - 1]))\n",
    "        degrees_l = jr.randint(keys[n+1], (dhidden, ), min_prev_degree, din)\n",
    "        degrees.append(degrees_l)\n",
    "\n",
    "    return degrees\n",
    "\n",
    "@jit\n",
    "def create_masks(degrees):\n",
    "    \"\"\"\n",
    "    Creates the binary masks that make the connectivity autoregressive.\n",
    "    :param degrees: a list of degrees for every layer\n",
    "    :return: list of all masks, as theano shared variables\n",
    "    \"\"\"\n",
    "\n",
    "    Ms = []\n",
    "\n",
    "    for _, (d0, d1) in enumerate(zip(degrees[:-1], degrees[1:])):\n",
    "        M = d0[:, jnp.newaxis] <= d1\n",
    "        Ms.append(M.astype(int))\n",
    "\n",
    "    Mmp = degrees[-1][:, jnp.newaxis] < degrees[0]\n",
    "\n",
    "    return Ms, Mmp.astype(int)"
   ]
  },
  {
   "cell_type": "code",
   "execution_count": 4,
   "metadata": {},
   "outputs": [],
   "source": [
    "from inference import Linear\n",
    "from jax import debug\n",
    "\n",
    "class OAMADE_Params(nnx.Module):\n",
    "    def __init__(self, din: int, dhidden: int, nhidden: int, *, rngs: nnx.Rngs):\n",
    "        dout = din\n",
    "        self.din, self.dhidden, self.nhidden = din, dhidden, nhidden\n",
    "        degrees = create_degrees(rngs.split(), din, dhidden, nhidden)\n",
    "        masks = create_masks(degrees)\n",
    "        in_mask = masks[0][0]\n",
    "        mid_masks = masks[0][1:]\n",
    "        out_mask = masks[1]\n",
    "        self.input_order = degrees[0]\n",
    "        self.mu1 = 0.0\n",
    "        self.sigma1 = 1.0\n",
    "        for i in range(nhidden):\n",
    "            if i == 0:\n",
    "                setattr(self, f'linear{i+1}', Linear(in_mask, din, dhidden, rngs=rngs))  \n",
    "                setattr(self, f'dropout{i+1}', nnx.Dropout(rate=0.1, rngs=rngs))  \n",
    "                setattr(self, f'bn{i+1}', nnx.BatchNorm(dhidden, rngs=rngs))\n",
    "            else:\n",
    "                setattr(self, f'linear{i+1}', Linear(mid_masks[i-1], dhidden, dhidden, rngs=rngs))\n",
    "                setattr(self, f'dropout{i+1}', nnx.Dropout(rate=0.1, rngs=rngs))\n",
    "                setattr(self, f'bn{i+1}', nnx.BatchNorm(dhidden, rngs=rngs))\n",
    "            self.linear_mu = Linear(out_mask, dhidden, dout, rngs=rngs)\n",
    "            self.linear_alpha = Linear(out_mask, dhidden, dout, rngs=rngs)\n",
    "\n",
    "    def __call__(self, x: jax.Array):\n",
    "        for i in range(self.nhidden):\n",
    "            linear = getattr(self, f'linear{i+1}')\n",
    "            dropout = getattr(self, f'dropout{i+1}')\n",
    "            bn = getattr(self, f'bn{i+1}')\n",
    "            x = linear(x)\n",
    "            x = bn(x)\n",
    "            x = dropout(x)\n",
    "            x = nnx.relu(x)\n",
    "        return jnp.stack([self.linear_mu(x), self.linear_alpha(x)], axis=1)\n",
    "  \n",
    "class OAMADE(nnx.Module):\n",
    "    def __init__(self, din: int, dhidden: int, nhidden: int, *, rngs: nnx.Rngs):\n",
    "        self.made_params = OAMADE_Params(din, dhidden, nhidden, rngs=rngs)\n",
    "        self.din = din\n",
    "        self.input_order = self.made_params.input_order\n",
    "\n",
    "    def __call__(self, x: jax.Array):\n",
    "        \"\"\"\n",
    "        Implements the inverse MADE transformation x -> u\n",
    "        A note on the order of the inputs: the made_params call function computes the parameters mu and alpha for the \n",
    "        ordering given by the \n",
    "        \"\"\"\n",
    "        num_samples = x.shape[0]\n",
    "        params = self.made_params(x)\n",
    "\n",
    "        mus = params[:, 0]\n",
    "        mus = mus[:, jnp.argsort(self.input_order)]\n",
    "        mus = jnp.stack([jnp.tile(self.mu1, (num_samples, 1)), mus[:, 1:]], axis=1).squeeze()\n",
    "\n",
    "        alphas = params[:, 1]\n",
    "        alphas = alphas[:, jnp.argsort(self.input_order)]\n",
    "        alphas = jnp.stack([jnp.tile(jnp.log(self.sigma1), (num_samples, 1)), alphas[:, 1:]], axis=1).squeeze()\n",
    "        \n",
    "        us = jnp.exp(-alphas) * (x[:, jnp.argsort(self.input_order)] - mus)\n",
    "        return us, jnp.sum(alphas)\n",
    "\n",
    "    def generate(self, u):\n",
    "        assert len(u.shape) == 2\n",
    "        x = jnp.zeros(jnp.shape(u))\n",
    "        x1 = self.mu1 + self.sigma1 * u[:, 0]\n",
    "        idx = jnp.argwhere(self.input_order == 1)[0, 0]\n",
    "        x = x.at[:, idx].set(x1)\n",
    "        for i in range(2, self.din+1):\n",
    "            idx = jnp.argwhere(self.input_order == i)[0, 0]\n",
    "            params = self.made_params(x)    \n",
    "            mus = params[:, 0]\n",
    "            alphas = params[:, 1]\n",
    "            new_x = mus[:, idx] + jnp.exp(alphas[:, idx]) * u[:, i-1]\n",
    "            x = x.at[:, idx].set(new_x)\n",
    "        return x\n",
    "  \n",
    "    def sample(self, key, num_samples):\n",
    "        u = jr.normal(key, (num_samples, self.din))\n",
    "        return self.generate(u)\n",
    "    \n",
    "    def train_init(self, x):\n",
    "        idx = jnp.argwhere(self.input_order == 1)[0, 0]\n",
    "        mu1 = jnp.mean(x[:, idx])\n",
    "        sigma1 = jnp.std(x[:, idx])\n",
    "        self.mu1 = mu1\n",
    "        self.sigma1 = sigma1\n",
    "  \n",
    "    def loss_fn(self, x):\n",
    "        self.train()\n",
    "        us, sum_alphas = self(x)\n",
    "        return jnp.sum(us ** 2)/2 + sum_alphas"
   ]
  },
  {
   "cell_type": "markdown",
   "metadata": {},
   "source": [
    "### Training"
   ]
  },
  {
   "cell_type": "code",
   "execution_count": 5,
   "metadata": {},
   "outputs": [
    {
     "name": "stdout",
     "output_type": "stream",
     "text": [
      "Init values: -3.4925148 5.467104\n",
      "[[-3.4925148 -1.2518709]\n",
      " [-3.4925148 -1.1083486]\n",
      " [-3.4925148 -1.3351723]\n",
      " [-3.4925148 -1.2650026]\n",
      " [-3.4925148  3.664221 ]\n",
      " [-3.4925148 26.06313  ]\n",
      " [-3.4925148 -1.350268 ]\n",
      " [-3.4925148 -1.2695037]\n",
      " [-3.4925148 -1.3823835]\n",
      " [-3.4925148 -1.3060871]]\n",
      "Iteration 0, Loss 2151.442138671875\n",
      "[[-3.4925148 -1.1517518]\n",
      " [-3.4925148 -1.3677648]\n",
      " [-3.4925148 -1.1972315]\n",
      " [-3.4925148 -1.1295445]\n",
      " [-3.4925148  2.8526418]\n",
      " [-3.4925148 24.450838 ]\n",
      " [-3.4925148 -1.265206 ]\n",
      " [-3.4925148 -1.239993 ]\n",
      " [-3.4925148 -1.3981795]\n",
      " [-3.4925148 -1.3778954]]\n",
      "[[-3.4925148 -1.2791952]\n",
      " [-3.4925148 -1.263536 ]\n",
      " [-3.4925148 -1.3125122]\n",
      " [-3.4925148 -1.0263891]\n",
      " [-3.4925148  0.5763257]\n",
      " [-3.4925148 23.319641 ]\n",
      " [-3.4925148 -1.1812469]\n",
      " [-3.4925148 -1.377719 ]\n",
      " [-3.4925148 -1.3461052]\n",
      " [-3.4925148 -1.1608118]]\n",
      "[[-3.4925148 -1.3499041]\n",
      " [-3.4925148 -1.2001656]\n",
      " [-3.4925148 -1.3103144]\n",
      " [-3.4925148 -1.1020927]\n",
      " [-3.4925148  2.1772335]\n",
      " [-3.4925148 25.123056 ]\n",
      " [-3.4925148 -1.4086376]\n",
      " [-3.4925148 -1.3004433]\n",
      " [-3.4925148 -1.3537246]\n",
      " [-3.4925148 -1.4556057]]\n",
      "[[-3.4925148 -1.4112172]\n",
      " [-3.4925148 -1.3621261]\n",
      " [-3.4925148 -1.3203303]\n",
      " [-3.4925148 -1.279735 ]\n",
      " [-3.4925148  0.8046322]\n",
      " [-3.4925148 26.379852 ]\n",
      " [-3.4925148 -1.3815972]\n",
      " [-3.4925148 -1.3308241]\n",
      " [-3.4925148 -1.2520796]\n",
      " [-3.4925148 -1.2580917]]\n"
     ]
    }
   ],
   "source": [
    "import optax\n",
    "from jax import debug\n",
    "\n",
    "# from inference import MADE, MADE2\n",
    "\n",
    "# MLP contains 2 Linear layers, 1 Dropout layer, 1 BatchNorm layer\n",
    "key1, key2 = jr.split(jr.PRNGKey(0))\n",
    "model2 = MADE2(2, 16, 5, rngs=nnx.Rngs(0))\n",
    "learning_rate = 0.01\n",
    "momentum = 0.9\n",
    "optimizer = nnx.Optimizer(model2, optax.adamw(learning_rate, momentum))\n",
    "\n",
    "@nnx.jit  # automatic state management\n",
    "def train_step(model2, optimizer, data):\n",
    "  loss_fn = lambda model: model.loss_fn(data)\n",
    "  loss, grads = nnx.value_and_grad(loss_fn)(model2)\n",
    "  optimizer.update(grads)  # inplace updates\n",
    "  return loss\n",
    "\n",
    "losses = []\n",
    "num_epochs = 5\n",
    "minibatch_size = 100\n",
    "model2.train_init(data)\n",
    "print('Init values:', model2.mu1, model2.sigma1)\n",
    "for i in range(num_epochs):\n",
    "  loss = train_step(model2, optimizer, data)\n",
    "# keys = jr.split(key1, num_epochs)\n",
    "# for i in range(num_epochs):\n",
    "#   mini_batch = data[jax.random.randint(keys[i], (minibatch_size,), 0, data.shape[0])]\n",
    "#   loss = train_step(model2, optimizer, mini_batch)\n",
    "  losses.append(loss)\n",
    "  if i % 100 == 0:\n",
    "    print(f'Iteration {i}, Loss {loss}')"
   ]
  },
  {
   "cell_type": "code",
   "execution_count": 6,
   "metadata": {},
   "outputs": [
    {
     "data": {
      "image/png": "[encoded data removed]",
      "text/plain": [
       "<Figure size 640x480 with 1 Axes>"
      ]
     },
     "metadata": {},
     "output_type": "display_data"
    }
   ],
   "source": [
    "plt.plot(losses)\n",
    "plt.show()"
   ]
  },
  {
   "cell_type": "markdown",
   "metadata": {},
   "source": [
    "### Evaluation"
   ]
  },
  {
   "cell_type": "code",
   "execution_count": 7,
   "metadata": {},
   "outputs": [
    {
     "data": {
      "image/png": "[encoded data removed]",
      "text/plain": [
       "<Figure size 640x480 with 1 Axes>"
      ]
     },
     "metadata": {},
     "output_type": "display_data"
    }
   ],
   "source": [
    "model2.eval()\n",
    "num_samples = 10000\n",
    "samples = model2.sample(jr.PRNGKey(0), num_samples)\n",
    "idx0 = jnp.argwhere(model2.input_order == 1)[0, 0]\n",
    "idx1 = jnp.argwhere(model2.input_order == 2)[0, 0]\n",
    "samples = samples[:, [idx0, idx1]]\n",
    "# samples = samples[samples[:, 1]<10]\n",
    "# samples = samples[samples[:, 1]>-10]\n",
    "plt.scatter(data[:,0], data[:,1], alpha=0.2)\n",
    "plt.scatter(samples[:, 0], samples[:,1], alpha=0.2)\n",
    "plt.show()\n",
    "# plt.hist(samples[:,0], bins=100, alpha=0.5)\n",
    "# plt.hist(data[:,0], bins=100, alpha=0.5)\n",
    "# plt.show()"
   ]
  },
  {
   "cell_type": "code",
   "execution_count": 8,
   "metadata": {},
   "outputs": [
    {
     "name": "stdout",
     "output_type": "stream",
     "text": [
      "[[-3.4925148e+00 -1.7531509e+00]\n",
      " [-3.4925148e+00 -1.7524915e+00]\n",
      " [-3.4925148e+00 -1.7537186e+00]\n",
      " [-3.4925148e+00  6.0263763e+02]\n",
      " [-3.4925148e+00  4.4743965e+03]\n",
      " [-3.4925148e+00  1.0720398e+04]\n",
      " [-3.4925148e+00 -1.7535167e+00]\n",
      " [-3.4925148e+00 -1.7536613e+00]\n",
      " [-3.4925148e+00 -1.7531745e+00]\n",
      " [-3.4925148e+00 -1.7535881e+00]]\n"
     ]
    },
    {
     "data": {
      "image/png": "[encoded data removed]",
      "text/plain": [
       "<Figure size 640x480 with 1 Axes>"
      ]
     },
     "metadata": {},
     "output_type": "display_data"
    }
   ],
   "source": [
    "us, alphas = model2(data)\n",
    "plt.scatter(us[:,0], us[:,1], alpha=0.2)\n",
    "plt.show()"
   ]
  },
  {
   "cell_type": "markdown",
   "metadata": {},
   "source": [
    "### Debugging"
   ]
  },
  {
   "cell_type": "code",
   "execution_count": 9,
   "metadata": {},
   "outputs": [
    {
     "data": {
      "image/png": "[encoded data removed]",
      "text/plain": [
       "<Figure size 640x480 with 1 Axes>"
      ]
     },
     "metadata": {},
     "output_type": "display_data"
    }
   ],
   "source": [
    "made_params = model2.made_params\n",
    "line = jnp.linspace(-10, 10, 1000)\n",
    "input_order = model2.input_order\n",
    "ids = jnp.argsort(input_order)\n",
    "in_data = jnp.stack([line, jnp.ones(1000)], axis=1)\n",
    "in_data = in_data[:, ids]\n",
    "mus = made_params(in_data)[:, 0]\n",
    "alphas = made_params(in_data)[:, 1]\n",
    "id = jnp.argwhere(input_order == 2)[0, 0]\n",
    "plt.plot(line, mus[:, id])\n",
    "plt.plot(line, jnp.exp(alphas[:, id]))\n",
    "plt.show()"
   ]
  },
  {
   "cell_type": "code",
   "execution_count": 10,
   "metadata": {},
   "outputs": [],
   "source": [
    "# import optax\n",
    "# from inference import MADE\n",
    "\n",
    "# # MLP contains 2 Linear layers, 1 Dropout layer, 1 BatchNorm layer\n",
    "# key1, key2 = jr.split(jr.PRNGKey(0))\n",
    "# model1 = MADE(2, 16, 5, rngs=nnx.Rngs(0))\n",
    "# learning_rate = 0.01\n",
    "# momentum = 0.9\n",
    "# optimizer = nnx.Optimizer(model1, optax.adamw(learning_rate, momentum))\n",
    "\n",
    "# @nnx.jit  # automatic state management\n",
    "# def train_step(model1, optimizer, data):\n",
    "#   loss_fn = lambda model: model.loss_fn(data)\n",
    "#   loss, grads = nnx.value_and_grad(loss_fn)(model1)\n",
    "#   optimizer.update(grads)  # inplace updates\n",
    "#   return loss\n",
    "\n",
    "# losses = []\n",
    "# num_epochs = 3000\n",
    "# minibatch_size = 100\n",
    "# data = data[:, [1, 0]]\n",
    "# model1.train_init(data)\n",
    "# for i in range(num_epochs):\n",
    "#   loss = train_step(model1, optimizer, data)\n",
    "#   losses.append(loss)\n",
    "#   if i % 100 == 0:\n",
    "#     print(f'Iteration {i}, Loss {loss}')"
   ]
  },
  {
   "cell_type": "code",
   "execution_count": 11,
   "metadata": {},
   "outputs": [],
   "source": [
    "# model1.eval()\n",
    "# num_samples = 10000\n",
    "# samples = model1.sample(jr.PRNGKey(0), num_samples)\n",
    "# idx0 = 0\n",
    "# idx1 = 1\n",
    "# samples = samples[:, [idx0, idx1]]\n",
    "# plt.scatter(data[:,0], data[:,1], alpha=0.2)\n",
    "# plt.scatter(samples[:, 0], samples[:,1], alpha=0.2)\n",
    "# plt.show()\n"
   ]
  },
  {
   "cell_type": "code",
   "execution_count": 12,
   "metadata": {},
   "outputs": [],
   "source": [
    "# made_params1 = model1.made_params\n",
    "# line = jnp.linspace(-10, 10, 1000)\n",
    "# in_data = jnp.stack([line, jnp.ones(1000)], axis=1)\n",
    "# mus = made_params1(in_data)[:, 0]\n",
    "# alphas = made_params1(in_data)[:, 1]\n",
    "# # plt.scatter(data[:,1], data[:,0], alpha=0.2)\n",
    "# plt.plot(line, mus[:, 1])\n",
    "# plt.plot(line, jnp.exp(alphas[:, 1]))\n",
    "# plt.show()"
   ]
  }
 ],
 "metadata": {
  "kernelspec": {
   "display_name": "jaxenv",
   "language": "python",
   "name": "python3"
  },
  "language_info": {
   "codemirror_mode": {
    "name": "ipython",
    "version": 3
   },
   "file_extension": ".py",
   "mimetype": "text/x-python",
   "name": "python",
   "nbconvert_exporter": "python",
   "pygments_lexer": "ipython3",
   "version": "3.11.6"
  }
 },
 "nbformat": 4,
 "nbformat_minor": 2
}
