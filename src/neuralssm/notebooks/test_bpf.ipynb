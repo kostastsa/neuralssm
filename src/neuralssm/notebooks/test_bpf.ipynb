{
 "cells": [
  {
   "cell_type": "code",
   "execution_count": null,
   "metadata": {},
   "outputs": [],
   "source": [
    "import sys \n",
    "sys.path.append(r'/Users/kostastsampourakis/Desktop/code/Python/projects/neuralssm/src/neuralssm')\n",
    "from jax import numpy as jnp # type: ignore\n",
    "from jax import random as jr # type: ignore\n",
    "from jax.scipy.special import factorial as fac # type: ignore\n",
    "from dynamax.utils.bijectors import RealToPSDBijector # type: ignore\n",
    "from simulators.ssm import SPN, LGSSM\n",
    "from util.param import sample_prior, initialize\n",
    "import tensorflow_probability.substrates.jax.distributions as tfd # type: ignore\n",
    "import tensorflow_probability.substrates.jax.bijectors as tfb # type: ignore\n",
    "\n",
    "import scienceplots # type: ignore\n",
    "import matplotlib.pyplot as plt # type: ignore\n",
    "import matplotlib_inline # type: ignore\n",
    "plt.style.use(['science', 'ieee'])\n",
    "matplotlib_inline.backend_inline.set_matplotlib_formats('svg')"
   ]
  },
  {
   "cell_type": "markdown",
   "metadata": {},
   "source": [
    "## Setup"
   ]
  },
  {
   "cell_type": "markdown",
   "metadata": {},
   "source": [
    "### SSM parameters"
   ]
  },
  {
   "cell_type": "code",
   "execution_count": null,
   "metadata": {},
   "outputs": [],
   "source": [
    "from simulators.sirssm import setup\n",
    "\n",
    "sim_setup = setup(3, 1, 0, [])\n",
    "spn = sim_setup['ssm']\n",
    "props = sim_setup['props']\n",
    "inputs = sim_setup['inputs']\n",
    "param_names = sim_setup['exp_info']['param_names']\n",
    "is_constrained_tree = sim_setup['exp_info']['constrainers']\n",
    "\n",
    "key = jr.PRNGKey(0)\n",
    "key, subkey = jr.split(key)\n",
    "xparam = sample_prior(subkey, props)[0]\n",
    "\n",
    "key, subkey = jr.split(jr.PRNGKey(0))\n",
    "params = sample_prior(subkey, props, 100)[0]\n",
    "key, subkey = jr.split(key)\n",
    "num_timesteps = 100\n",
    "states, emissions = spn.simulate(subkey, params, num_timesteps)\n",
    "\n",
    "plt.plot(states[:, 0], label = 'S')\n",
    "plt.plot(states[:, 1], label = 'I')\n",
    "plt.plot(states[:, 2], label = 'R')\n",
    "plt.plot(emissions, label = 'emissions')\n",
    "plt.legend()\n",
    "plt.show()"
   ]
  },
  {
   "cell_type": "code",
   "execution_count": null,
   "metadata": {},
   "outputs": [
    {
     "ename": "TracerArrayConversionError",
     "evalue": "The numpy.ndarray conversion method __array__() was called on traced array with shape float32[]\nThis BatchTracer with object id 13395786096 was created on line:\n  /var/folders/cf/9kb2d0x96lb876lx1vnj8rt40000gn/T/ipykernel_57336/783716031.py:4:30 (<lambda>)\nSee https://jax.readthedocs.io/en/latest/errors.html#jax.errors.TracerArrayConversionError",
     "output_type": "error",
     "traceback": [
      "\u001b[0;31m---------------------------------------------------------------------------\u001b[0m",
      "\u001b[0;31mTracerArrayConversionError\u001b[0m                Traceback (most recent call last)",
      "Cell \u001b[0;32mIn[22], line 12\u001b[0m\n\u001b[1;32m      8\u001b[0m \u001b[38;5;28;01mdef\u001b[39;00m \u001b[38;5;21mlog_hazard_fn\u001b[39m(state, pre, log_rates): \n\u001b[1;32m     10\u001b[0m     \u001b[38;5;28;01mreturn\u001b[39;00m log_bin_hazard_fn(state, pre, log_rates)\n\u001b[0;32m---> 12\u001b[0m \u001b[43mlog_hazard_fn\u001b[49m\u001b[43m(\u001b[49m\u001b[43mstates\u001b[49m\u001b[43m[\u001b[49m\u001b[38;5;241;43m4\u001b[39;49m\u001b[43m]\u001b[49m\u001b[43m,\u001b[49m\u001b[43m \u001b[49m\u001b[43mparams\u001b[49m\u001b[38;5;241;43m.\u001b[39;49m\u001b[43mdynamics\u001b[49m\u001b[38;5;241;43m.\u001b[39;49m\u001b[43mpre\u001b[49m\u001b[38;5;241;43m.\u001b[39;49m\u001b[43mvalue\u001b[49m\u001b[43m,\u001b[49m\u001b[43m \u001b[49m\u001b[43mparams\u001b[49m\u001b[38;5;241;43m.\u001b[39;49m\u001b[43mdynamics\u001b[49m\u001b[38;5;241;43m.\u001b[39;49m\u001b[43mlog_rates\u001b[49m\u001b[38;5;241;43m.\u001b[39;49m\u001b[43mvalue\u001b[49m\u001b[43m)\u001b[49m\n",
      "Cell \u001b[0;32mIn[22], line 10\u001b[0m, in \u001b[0;36mlog_hazard_fn\u001b[0;34m(state, pre, log_rates)\u001b[0m\n\u001b[1;32m      8\u001b[0m \u001b[38;5;28;01mdef\u001b[39;00m \u001b[38;5;21mlog_hazard_fn\u001b[39m(state, pre, log_rates): \n\u001b[0;32m---> 10\u001b[0m     \u001b[38;5;28;01mreturn\u001b[39;00m \u001b[43mlog_bin_hazard_fn\u001b[49m\u001b[43m(\u001b[49m\u001b[43mstate\u001b[49m\u001b[43m,\u001b[49m\u001b[43m \u001b[49m\u001b[43mpre\u001b[49m\u001b[43m,\u001b[49m\u001b[43m \u001b[49m\u001b[43mlog_rates\u001b[49m\u001b[43m)\u001b[49m\n",
      "Cell \u001b[0;32mIn[22], line 6\u001b[0m, in \u001b[0;36m<lambda>\u001b[0;34m(state, pre, log_rates)\u001b[0m\n\u001b[1;32m      4\u001b[0m log_bin \u001b[38;5;241m=\u001b[39m\u001b[38;5;28;01mlambda\u001b[39;00m N, k: gammaln(N \u001b[38;5;241m+\u001b[39m \u001b[38;5;241m1\u001b[39m) \u001b[38;5;241m-\u001b[39m gammaln(k \u001b[38;5;241m+\u001b[39m \u001b[38;5;241m1\u001b[39m) \u001b[38;5;241m-\u001b[39m gammaln(N \u001b[38;5;241m-\u001b[39m k \u001b[38;5;241m+\u001b[39m \u001b[38;5;241m1\u001b[39m)\n\u001b[1;32m      5\u001b[0m sum_log_bin \u001b[38;5;241m=\u001b[39m \u001b[38;5;28;01mlambda\u001b[39;00m x, n: jnp\u001b[38;5;241m.\u001b[39msum(vmap(log_bin)(x, n))\n\u001b[0;32m----> 6\u001b[0m log_bin_hazard_fn \u001b[38;5;241m=\u001b[39m \u001b[38;5;28;01mlambda\u001b[39;00m state, pre, log_rates: \u001b[43mvmap\u001b[49m\u001b[43m(\u001b[49m\u001b[38;5;28;43;01mlambda\u001b[39;49;00m\u001b[43m \u001b[49m\u001b[43mrow\u001b[49m\u001b[43m,\u001b[49m\u001b[43m \u001b[49m\u001b[43mlog_rate\u001b[49m\u001b[43m:\u001b[49m\u001b[43m \u001b[49m\u001b[43mlog_rate\u001b[49m\u001b[43m \u001b[49m\u001b[38;5;241;43m+\u001b[39;49m\u001b[43m \u001b[49m\u001b[43msum_log_bin\u001b[49m\u001b[43m(\u001b[49m\u001b[43mstate\u001b[49m\u001b[43m,\u001b[49m\u001b[43m \u001b[49m\u001b[43mrow\u001b[49m\u001b[43m)\u001b[49m\u001b[43m)\u001b[49m\u001b[43m(\u001b[49m\u001b[43mpre\u001b[49m\u001b[43m,\u001b[49m\u001b[43m \u001b[49m\u001b[43mlog_rates\u001b[49m\u001b[43m)\u001b[49m\n\u001b[1;32m      8\u001b[0m \u001b[38;5;28;01mdef\u001b[39;00m \u001b[38;5;21mlog_hazard_fn\u001b[39m(state, pre, log_rates): \n\u001b[1;32m     10\u001b[0m     \u001b[38;5;28;01mreturn\u001b[39;00m log_bin_hazard_fn(state, pre, log_rates)\n",
      "    \u001b[0;31m[... skipping hidden 3 frame]\u001b[0m\n",
      "Cell \u001b[0;32mIn[22], line 6\u001b[0m, in \u001b[0;36m<lambda>\u001b[0;34m(row, log_rate)\u001b[0m\n\u001b[1;32m      4\u001b[0m log_bin \u001b[38;5;241m=\u001b[39m\u001b[38;5;28;01mlambda\u001b[39;00m N, k: gammaln(N \u001b[38;5;241m+\u001b[39m \u001b[38;5;241m1\u001b[39m) \u001b[38;5;241m-\u001b[39m gammaln(k \u001b[38;5;241m+\u001b[39m \u001b[38;5;241m1\u001b[39m) \u001b[38;5;241m-\u001b[39m gammaln(N \u001b[38;5;241m-\u001b[39m k \u001b[38;5;241m+\u001b[39m \u001b[38;5;241m1\u001b[39m)\n\u001b[1;32m      5\u001b[0m sum_log_bin \u001b[38;5;241m=\u001b[39m \u001b[38;5;28;01mlambda\u001b[39;00m x, n: jnp\u001b[38;5;241m.\u001b[39msum(vmap(log_bin)(x, n))\n\u001b[0;32m----> 6\u001b[0m log_bin_hazard_fn \u001b[38;5;241m=\u001b[39m \u001b[38;5;28;01mlambda\u001b[39;00m state, pre, log_rates: vmap(\u001b[38;5;28;01mlambda\u001b[39;00m row, log_rate: log_rate \u001b[38;5;241m+\u001b[39m \u001b[43msum_log_bin\u001b[49m\u001b[43m(\u001b[49m\u001b[43mstate\u001b[49m\u001b[43m,\u001b[49m\u001b[43m \u001b[49m\u001b[43mrow\u001b[49m\u001b[43m)\u001b[49m)(pre, log_rates)\n\u001b[1;32m      8\u001b[0m \u001b[38;5;28;01mdef\u001b[39;00m \u001b[38;5;21mlog_hazard_fn\u001b[39m(state, pre, log_rates): \n\u001b[1;32m     10\u001b[0m     \u001b[38;5;28;01mreturn\u001b[39;00m log_bin_hazard_fn(state, pre, log_rates)\n",
      "Cell \u001b[0;32mIn[22], line 5\u001b[0m, in \u001b[0;36m<lambda>\u001b[0;34m(x, n)\u001b[0m\n\u001b[1;32m      2\u001b[0m \u001b[38;5;28;01mfrom\u001b[39;00m \u001b[38;5;21;01mjax\u001b[39;00m \u001b[38;5;28;01mimport\u001b[39;00m vmap\n\u001b[1;32m      4\u001b[0m log_bin \u001b[38;5;241m=\u001b[39m\u001b[38;5;28;01mlambda\u001b[39;00m N, k: gammaln(N \u001b[38;5;241m+\u001b[39m \u001b[38;5;241m1\u001b[39m) \u001b[38;5;241m-\u001b[39m gammaln(k \u001b[38;5;241m+\u001b[39m \u001b[38;5;241m1\u001b[39m) \u001b[38;5;241m-\u001b[39m gammaln(N \u001b[38;5;241m-\u001b[39m k \u001b[38;5;241m+\u001b[39m \u001b[38;5;241m1\u001b[39m)\n\u001b[0;32m----> 5\u001b[0m sum_log_bin \u001b[38;5;241m=\u001b[39m \u001b[38;5;28;01mlambda\u001b[39;00m x, n: jnp\u001b[38;5;241m.\u001b[39msum(\u001b[43mvmap\u001b[49m\u001b[43m(\u001b[49m\u001b[43mlog_bin\u001b[49m\u001b[43m)\u001b[49m\u001b[43m(\u001b[49m\u001b[43mx\u001b[49m\u001b[43m,\u001b[49m\u001b[43m \u001b[49m\u001b[43mn\u001b[49m\u001b[43m)\u001b[49m)\n\u001b[1;32m      6\u001b[0m log_bin_hazard_fn \u001b[38;5;241m=\u001b[39m \u001b[38;5;28;01mlambda\u001b[39;00m state, pre, log_rates: vmap(\u001b[38;5;28;01mlambda\u001b[39;00m row, log_rate: log_rate \u001b[38;5;241m+\u001b[39m sum_log_bin(state, row))(pre, log_rates)\n\u001b[1;32m      8\u001b[0m \u001b[38;5;28;01mdef\u001b[39;00m \u001b[38;5;21mlog_hazard_fn\u001b[39m(state, pre, log_rates): \n",
      "    \u001b[0;31m[... skipping hidden 3 frame]\u001b[0m\n",
      "Cell \u001b[0;32mIn[22], line 4\u001b[0m, in \u001b[0;36m<lambda>\u001b[0;34m(N, k)\u001b[0m\n\u001b[1;32m      1\u001b[0m \u001b[38;5;28;01mfrom\u001b[39;00m \u001b[38;5;21;01mscipy\u001b[39;00m\u001b[38;5;21;01m.\u001b[39;00m\u001b[38;5;21;01mspecial\u001b[39;00m \u001b[38;5;28;01mimport\u001b[39;00m gammaln\n\u001b[1;32m      2\u001b[0m \u001b[38;5;28;01mfrom\u001b[39;00m \u001b[38;5;21;01mjax\u001b[39;00m \u001b[38;5;28;01mimport\u001b[39;00m vmap\n\u001b[0;32m----> 4\u001b[0m log_bin \u001b[38;5;241m=\u001b[39m\u001b[38;5;28;01mlambda\u001b[39;00m N, k: \u001b[43mgammaln\u001b[49m\u001b[43m(\u001b[49m\u001b[43mN\u001b[49m\u001b[43m \u001b[49m\u001b[38;5;241;43m+\u001b[39;49m\u001b[43m \u001b[49m\u001b[38;5;241;43m1\u001b[39;49m\u001b[43m)\u001b[49m \u001b[38;5;241m-\u001b[39m gammaln(k \u001b[38;5;241m+\u001b[39m \u001b[38;5;241m1\u001b[39m) \u001b[38;5;241m-\u001b[39m gammaln(N \u001b[38;5;241m-\u001b[39m k \u001b[38;5;241m+\u001b[39m \u001b[38;5;241m1\u001b[39m)\n\u001b[1;32m      5\u001b[0m sum_log_bin \u001b[38;5;241m=\u001b[39m \u001b[38;5;28;01mlambda\u001b[39;00m x, n: jnp\u001b[38;5;241m.\u001b[39msum(vmap(log_bin)(x, n))\n\u001b[1;32m      6\u001b[0m log_bin_hazard_fn \u001b[38;5;241m=\u001b[39m \u001b[38;5;28;01mlambda\u001b[39;00m state, pre, log_rates: vmap(\u001b[38;5;28;01mlambda\u001b[39;00m row, log_rate: log_rate \u001b[38;5;241m+\u001b[39m sum_log_bin(state, row))(pre, log_rates)\n",
      "File \u001b[0;32m/usr/local/Caskroom/miniforge/base/envs/jaxenv/lib/python3.11/site-packages/jax/_src/core.py:714\u001b[0m, in \u001b[0;36mTracer.__array__\u001b[0;34m(self, *args, **kw)\u001b[0m\n\u001b[1;32m    713\u001b[0m \u001b[38;5;28;01mdef\u001b[39;00m \u001b[38;5;21m__array__\u001b[39m(\u001b[38;5;28mself\u001b[39m, \u001b[38;5;241m*\u001b[39margs, \u001b[38;5;241m*\u001b[39m\u001b[38;5;241m*\u001b[39mkw):\n\u001b[0;32m--> 714\u001b[0m   \u001b[38;5;28;01mraise\u001b[39;00m TracerArrayConversionError(\u001b[38;5;28mself\u001b[39m)\n",
      "\u001b[0;31mTracerArrayConversionError\u001b[0m: The numpy.ndarray conversion method __array__() was called on traced array with shape float32[]\nThis BatchTracer with object id 13395786096 was created on line:\n  /var/folders/cf/9kb2d0x96lb876lx1vnj8rt40000gn/T/ipykernel_57336/783716031.py:4:30 (<lambda>)\nSee https://jax.readthedocs.io/en/latest/errors.html#jax.errors.TracerArrayConversionError"
     ]
    }
   ],
   "source": [
    "from scipy.special import gammaln\n",
    "from jax import vmap, jit\n",
    "\n",
    "log_bin =lambda N, k: gammaln(N + 1) - gammaln(k + 1) - gammaln(N - k + 1)\n",
    "sum_log_bin = lambda x, n: jnp.sum(vmap(log_bin)(x, n))\n",
    "log_bin_hazard_fn = lambda state, pre, log_rates: vmap(lambda row, log_rate: log_rate + sum_log_bin(state, row))(pre, log_rates)\n",
    "\n",
    "def log_hazard_fn(state, pre, log_rates): \n",
    "\n",
    "    return log_bin_hazard_fn(state, pre, log_rates)\n",
    "\n",
    "log_hazard_fn(states[4], params.dynamics.pre.value, params.dynamics.log_rates.value)"
   ]
  },
  {
   "cell_type": "markdown",
   "metadata": {},
   "source": [
    "### Sample emissions and states"
   ]
  },
  {
   "cell_type": "code",
   "execution_count": null,
   "metadata": {},
   "outputs": [],
   "source": [
    "key, subkey = jr.split(jr.PRNGKey(315520))\n",
    "true_lgssm = LGSSM(state_dim, emission_dim)\n",
    "[true_params, example_param] = sample_ssm_params(key, prior, 2)\n",
    "true_params.from_unconstrained(props)\n",
    "states, emissions = true_lgssm.simulate(subkey, true_params, num_timesteps)\n",
    "\n",
    "plt.plot(emissions)\n",
    "plt.show()"
   ]
  },
  {
   "cell_type": "markdown",
   "metadata": {},
   "source": [
    "## Inference"
   ]
  },
  {
   "cell_type": "markdown",
   "metadata": {},
   "source": [
    "### Likelihood approximation"
   ]
  },
  {
   "cell_type": "code",
   "execution_count": null,
   "metadata": {},
   "outputs": [],
   "source": [
    "# covs = []\n",
    "# params_list = []\n",
    "# for param in sample_ssm_params(key, prior, 100):\n",
    "#     param.from_unconstrained(props)\n",
    "#     params_list.append(param)\n",
    "#     covs.append(param.dynamics.cov.value)\n",
    "# thetas = jnp.array(covs).flatten()\n",
    "# # thetas = jnp.sort(thetas)\n",
    "# # BPF\n",
    "# num_particles = 1000\n",
    "# num_iters = 1\n",
    "# lls = []\n",
    "# for param in params_list:\n",
    "#     ll = 0\n",
    "#     for _ in range(num_iters):\n",
    "#         _, ll_i = bpf(param, true_lgssm, emissions, num_particles, key)\n",
    "#         ll += ll_i/num_iters \n",
    "#     lls.append(ll)\n",
    "# lls = jnp.array(lls)\n",
    "# # plt.scatter(thetas, lls)\n",
    "# # plt.show()"
   ]
  },
  {
   "cell_type": "markdown",
   "metadata": {},
   "source": [
    "### Posterior sampling with BlackJax"
   ]
  },
  {
   "cell_type": "code",
   "execution_count": null,
   "metadata": {},
   "outputs": [],
   "source": [
    "import blackjax\n",
    "from datetime import date\n",
    "from parameters import log_prior, get_unravel_fn, join_trees, tree_from_params, to_train_array\n",
    "\n",
    "# Define test-model (SSM) and log-density function\n",
    "lgssm = LGSSM(state_dim, emission_dim)\n",
    "\n",
    "def logdensity_fn(cond_params):\n",
    "    unravel_fn = get_unravel_fn(example_param, props)\n",
    "    unravel = unravel_fn(cond_params)\n",
    "    tree = tree_from_params(example_param)\n",
    "    new_tree = join_trees(unravel, tree, props)\n",
    "    params = params_from_tree(new_tree, param_names, is_constrained_tree)\n",
    "    params.from_unconstrained(props)\n",
    "    _, lp = bpf(params, lgssm, emissions, num_particles, key)\n",
    "    lp += log_prior(cond_params, prior)\n",
    "    return jnp.mean(lp)\n",
    "\n",
    "# Initialize MCMC chain and kernel\n",
    "rng_key = jax.random.key(int(date.today().strftime(\"%Y%m%d\")))\n",
    "initial_cond_params = to_train_array(sample_ssm_params(rng_key, prior, 1)[0], props)\n",
    "random_walk = blackjax.additive_step_random_walk(logdensity_fn, blackjax.mcmc.random_walk.normal(0.1))\n",
    "initial_state = random_walk.init(initial_cond_params)\n",
    "kernel = jax.jit(random_walk.step)\n",
    "\n",
    "# Define inference loop\n",
    "def inference_loop(rng_key, kernel, initial_state, num_samples):\n",
    "    @jax.jit\n",
    "    def one_step(state, rng_key):\n",
    "        state, _ = kernel(rng_key, state)\n",
    "        return state, state\n",
    "\n",
    "    keys = jax.random.split(rng_key, num_samples)\n",
    "    _, states = jax.lax.scan(one_step, initial_state, keys)\n",
    "\n",
    "    return states\n",
    "\n",
    "# Run inference loop\n",
    "rng_key, sample_key = jax.random.split(rng_key)\n",
    "states = inference_loop(sample_key, kernel, initial_state, 2_000)"
   ]
  },
  {
   "cell_type": "code",
   "execution_count": null,
   "metadata": {},
   "outputs": [],
   "source": [
    "import jax.scipy.stats as jss\n",
    "kernel_points = states.position[-100:].T\n",
    "posterior_mean = jnp.mean(kernel_points, axis=1)\n",
    "kde = jss.gaussian_kde(kernel_points, bw_method=1.0)\n",
    "min = jnp.min(kernel_points[0, :])\n",
    "max = jnp.max(kernel_points[0, :])\n",
    "\n",
    "eval_points_at_dim = jnp.linspace(min, max, 100)\n",
    "eval_points = jnp.concatenate([eval_points_at_dim[None].T, jnp.tile(posterior_mean[1:], (100, 1))], axis=1)\n",
    "density_evals = kde.evaluate(eval_points.T)\n",
    "\n",
    "plt.plot(eval_points_at_dim, density_evals)\n",
    "plt.vlines(kernel_points[0, :], jnp.min(density_evals), jnp.max(density_evals), color='red', alpha=0.1)\n",
    "plt.show()\n",
    "plt.hist(kernel_points[0, :], bins=50, density=True)\n",
    "plt.show()\n",
    "# print(-jnp.log(kde.evaluate(RealToPSDBijector().inverse(true_params.dynamics.cov.value))))"
   ]
  },
  {
   "cell_type": "code",
   "execution_count": null,
   "metadata": {},
   "outputs": [],
   "source": [
    "density_evals"
   ]
  }
 ],
 "metadata": {
  "kernelspec": {
   "display_name": "jaxenv",
   "language": "python",
   "name": "python3"
  },
  "language_info": {
   "codemirror_mode": {
    "name": "ipython",
    "version": 3
   },
   "file_extension": ".py",
   "mimetype": "text/x-python",
   "name": "python",
   "nbconvert_exporter": "python",
   "pygments_lexer": "ipython3",
   "version": "3.11.6"
  }
 },
 "nbformat": 4,
 "nbformat_minor": 2
}
