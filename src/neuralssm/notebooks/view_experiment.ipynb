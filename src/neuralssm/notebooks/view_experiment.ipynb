{
 "cells": [
  {
   "cell_type": "code",
   "execution_count": 1,
   "metadata": {},
   "outputs": [],
   "source": [
    "import sys \n",
    "import os\n",
    "sys.path.append(r'/Users/kostastsampourakis/Desktop/code/Python/projects/neuralssm/src/neuralssm')\n",
    "import argparse\n",
    "import jax.numpy as jnp\n",
    "import jax.random as jr\n",
    "import time\n",
    "import util.io\n",
    "import experiment_descriptor as ed\n",
    "import misc\n",
    "import util.plot\n",
    "import matplotlib.pyplot as plt\n",
    "import tensorflow_probability.substrates.jax.distributions as tfd # type: ignore\n",
    "import main \n",
    "exp_root = '/Users/kostastsampourakis/Desktop/code/Python/projects/neuralssm/src/neuralssm/exps/'\n",
    "data_root = '/Users/kostastsampourakis/Desktop/code/Python/projects/neuralssm/src/neuralssm/data/experiments/'"
   ]
  },
  {
   "cell_type": "markdown",
   "metadata": {},
   "source": [
    "## Run experiment"
   ]
  },
  {
   "cell_type": "code",
   "execution_count": 2,
   "metadata": {},
   "outputs": [],
   "source": [
    "run = False\n",
    "if run:\n",
    "    exp_file = exp_root + 'exp0.txt'\n",
    "    sys.argv = ['', 'trials', '13434', '1', '2', exp_file] \n",
    "    args = main.parse_args()\n",
    "    args.func(args)"
   ]
  },
  {
   "cell_type": "markdown",
   "metadata": {},
   "source": [
    "## View experiment"
   ]
  },
  {
   "cell_type": "code",
   "execution_count": 3,
   "metadata": {},
   "outputs": [],
   "source": [
    "view = False\n",
    "trial = 1\n",
    "if view:\n",
    "    for trial in range(1, 3):\n",
    "        exp_file = exp_root + 'exp0.txt'\n",
    "        sys.argv = ['', 'view', '-t', f'{trial}', exp_file]\n",
    "        args = main.parse_args()\n",
    "        args.func(args)"
   ]
  },
  {
   "cell_type": "code",
   "execution_count": 4,
   "metadata": {},
   "outputs": [],
   "source": [
    "view = False\n",
    "trial = 1\n",
    "if view:\n",
    "    for trial in range(1, 2):\n",
    "        exp_file = exp_root + 'new_exp.txt'\n",
    "        sys.argv = ['', 'view', '-t', f'{trial}', exp_file]\n",
    "        args = main.parse_args()\n",
    "        args.func(args)"
   ]
  },
  {
   "cell_type": "code",
   "execution_count": 5,
   "metadata": {},
   "outputs": [],
   "source": [
    "view = False\n",
    "trial = 1\n",
    "if view:\n",
    "    for trial in range(1, 2):\n",
    "        exp_file = exp_root + 'lgssm_bpf_mcmc.txt'\n",
    "        sys.argv = ['', 'view', '-t', f'{trial}', exp_file]\n",
    "        args = main.parse_args()\n",
    "        args.func(args)"
   ]
  },
  {
   "cell_type": "code",
   "execution_count": 6,
   "metadata": {},
   "outputs": [],
   "source": [
    "view = False\n",
    "start_trial = 1\n",
    "end_trial = 11\n",
    "if view:\n",
    "    for trial in range(1, 5): #range(start_trial, end_trial):\n",
    "        exp_file = exp_root + 'lgssm_tsnl_test.txt'\n",
    "        sys.argv = ['', 'view', '-t', f'{trial}', '-o', 'true', exp_file]\n",
    "        args = main.parse_args()\n",
    "        args.func(args)"
   ]
  },
  {
   "cell_type": "code",
   "execution_count": 7,
   "metadata": {},
   "outputs": [],
   "source": [
    "view = False\n",
    "if view:\n",
    "    exp_root = '/Users/kostastsampourakis/Desktop/code/Python/projects/neuralssm/src/neuralssm/exps/'\n",
    "    for trial in range(1, 11):\n",
    "        exp_file = exp_root + 'lgssm_abc.txt'\n",
    "        sys.argv = ['', 'view', '-t', f'{trial}', exp_file]\n",
    "        args = main.parse_args()\n",
    "        args.func(args)"
   ]
  },
  {
   "cell_type": "code",
   "execution_count": null,
   "metadata": {},
   "outputs": [
    {
     "name": "stdout",
     "output_type": "stream",
     "text": [
      "Loading trial 34...\n",
      "File /Users/kostastsampourakis/Desktop/code/Python/projects/neuralssm/src/neuralssm/data/experiments/lgssm/state-dim_1_emission-dim_1_num-timesteps_100_target-vars_d4/nde/tsnl/samples_10_rounds_5_lag_10_subsample_1.0_train_on_best_mcmc_steps_1000/maf_nmades_5_dhidden_32_nhiddens_5/34 not found\n"
     ]
    }
   ],
   "source": [
    "\n",
    "def get_error(exp_dir, start_trial, end_trial):\n",
    "\n",
    "    errors = []\n",
    "    mmds = []\n",
    "    dists = []\n",
    "    true_cps_trials = []\n",
    "    observations_trials = []\n",
    "    all_emissions_trials = []\n",
    "    post_cps_trials = []\n",
    "    simulated_emissions_trials = []\n",
    "    \n",
    "    for trial in range(start_trial, end_trial+1):\n",
    "        print(f'Loading trial {trial}...')\n",
    "        \n",
    "        try:\n",
    "\n",
    "            error, _ = util.io.load(os.path.join(exp_dir + f'/{trial}', 'error'))\n",
    "            all_emissions = util.io.load(os.path.join(exp_dir + f'/{trial}', 'all_emissions'))\n",
    "            (true_ps, true_cps), observations =  util.io.load(os.path.join(exp_dir + f'/{trial}', 'gt'))\n",
    "            all_dists = util.io.load(os.path.join(exp_dir + f'/{trial}', 'all_dists'))\n",
    "            mmd = util.io.load(os.path.join(exp_dir + f'/{trial}', 'mmd'))\n",
    "            simulated_emissions = util.io.load(os.path.join(exp_dir + f'/{trial}', 'est_sample'))\n",
    "            _, post_cps = util.io.load(os.path.join(exp_dir + f'/{trial}', 'posterior'))\n",
    "\n",
    "            errors.append(error)\n",
    "            mmds.append(mmd)\n",
    "            dists.append(all_dists)\n",
    "            all_emissions_trials.append(all_emissions)\n",
    "            post_cps_trials.append(post_cps)\n",
    "            true_cps_trials.append(true_cps)\n",
    "            simulated_emissions_trials.append(simulated_emissions)\n",
    "            observations_trials.append(observations)\n",
    "\n",
    "        except FileNotFoundError:\n",
    "\n",
    "            print(f'File {exp_dir}/{str(trial)} not found')\n",
    "\n",
    "            continue\n",
    "\n",
    "    out = {\n",
    "        'errors': jnp.array(errors),\n",
    "        'dists': jnp.array(dists),\n",
    "        'mmd' : jnp.array(mmds),\n",
    "        'true_cps_trials': true_cps_trials,\n",
    "        'observations_trials': jnp.array(observations_trials),\n",
    "        'all_emissions_trials': jnp.array(all_emissions_trials),\n",
    "        'simulated_emissions_trials': jnp.array(simulated_emissions_trials),\n",
    "        'post_cps_trials': jnp.array(post_cps_trials)\n",
    "        }\n",
    "\n",
    "    return out\n",
    "\n",
    "def get_exp_dir(inf,\n",
    "                sim,\n",
    "                state_dim,\n",
    "                emission_dim,\n",
    "                num_timesteps,\n",
    "                vars,\n",
    "                num_samples,\n",
    "                num_rounds,\n",
    "                train_on,\n",
    "                subsample,\n",
    "                mcmc_steps,\n",
    "                lag,\n",
    "                dhidden):\n",
    "\n",
    "    if inf == 'snl':\n",
    "\n",
    "        inf_dir = f'nde/snl/samples_{num_samples}_rounds_{num_rounds}_train_on_{train_on}_mcmc_steps_{mcmc_steps}/maf_nmades_5_dhidden_32_nhiddens_5'\n",
    "\n",
    "    elif inf == 'tsnl':\n",
    "\n",
    "        inf_dir = f'nde/tsnl/samples_{num_samples}_rounds_{num_rounds}_lag_{lag}_subsample_{subsample}_train_on_{train_on}_mcmc_steps_{mcmc_steps}/maf_nmades_5_dhidden_{dhidden}_nhiddens_5'\n",
    "\n",
    "    if sim == 'lvssm':\n",
    "\n",
    "        sim_dir = data_root + f'{sim}/emission-dim_{emission_dim}_num-timesteps_{num_timesteps}_target-vars_{vars}/'\n",
    "        \n",
    "    elif sim == 'svssm':\n",
    "\n",
    "        sim_dir = data_root + f'{sim}/state-dim_{state_dim}_emission-dim_{emission_dim}_num-timesteps_{num_timesteps}_target-vars_{vars}/'\n",
    "\n",
    "    elif sim == 'lgssm':\n",
    "\n",
    "        sim_dir = data_root + f'{sim}/state-dim_{state_dim}_emission-dim_{emission_dim}_num-timesteps_{num_timesteps}_target-vars_{vars}/'\n",
    "\n",
    "    exp_dir = sim_dir + inf_dir\n",
    "\n",
    "    return exp_dir\n",
    "    \n",
    "view = True\n",
    "\n",
    "if view:\n",
    "\n",
    "    snl_exp_dir = get_exp_dir('snl', 'lgssm', state_dim=1, emission_dim=1, num_timesteps=100, vars='d4', num_samples=10, num_rounds=5, train_on='best', subsample=None, mcmc_steps=1000, lag=-1, dhidden=32)\n",
    "    tsnl_exp_dir = get_exp_dir('tsnl', 'lgssm', state_dim=1, emission_dim=1, num_timesteps=100, vars='d4', num_samples=10, num_rounds=5, train_on='best', subsample=1.0, mcmc_steps=1000, lag=10, dhidden=32)\n",
    "\n",
    "    # out_snl = get_error(snl_exp_dir, 34, 34)\n",
    "    out_tsnl = get_error(tsnl_exp_dir, 34, 34)\n",
    "\n",
    "    # post_trials_snl = out_snl['post_cps_trials']\n",
    "    # true_cps_snl = out_snl['true_cps_trials']\n",
    "    post_trials_tsnl = out_tsnl['post_cps_trials']\n",
    "    true_cps_tsnl = out_tsnl['true_cps_trials']"
   ]
  },
  {
   "cell_type": "code",
   "execution_count": 20,
   "metadata": {},
   "outputs": [
    {
     "data": {
      "text/plain": [
       "{'errors': Array([], shape=(0,), dtype=float32),\n",
       " 'dists': Array([], shape=(0,), dtype=float32),\n",
       " 'mmd': Array([], shape=(0,), dtype=float32),\n",
       " 'true_cps_trials': [],\n",
       " 'observations_trials': Array([], shape=(0,), dtype=float32),\n",
       " 'all_emissions_trials': Array([], shape=(0,), dtype=float32),\n",
       " 'simulated_emissions_trials': Array([], shape=(0,), dtype=float32),\n",
       " 'post_cps_trials': Array([], shape=(0,), dtype=float32)}"
      ]
     },
     "execution_count": 20,
     "metadata": {},
     "output_type": "execute_result"
    }
   ],
   "source": [
    "out_tsnl"
   ]
  },
  {
   "cell_type": "code",
   "execution_count": 17,
   "metadata": {},
   "outputs": [
    {
     "ename": "NameError",
     "evalue": "name 'out_snl' is not defined",
     "output_type": "error",
     "traceback": [
      "\u001b[0;31m---------------------------------------------------------------------------\u001b[0m",
      "\u001b[0;31mNameError\u001b[0m                                 Traceback (most recent call last)",
      "Cell \u001b[0;32mIn[17], line 1\u001b[0m\n\u001b[0;32m----> 1\u001b[0m jnp\u001b[38;5;241m.\u001b[39mmean(\u001b[43mout_snl\u001b[49m[\u001b[38;5;124m'\u001b[39m\u001b[38;5;124mmmd\u001b[39m\u001b[38;5;124m'\u001b[39m]), jnp\u001b[38;5;241m.\u001b[39mmean(out_tsnl[\u001b[38;5;124m'\u001b[39m\u001b[38;5;124mmmd\u001b[39m\u001b[38;5;124m'\u001b[39m])\n",
      "\u001b[0;31mNameError\u001b[0m: name 'out_snl' is not defined"
     ]
    }
   ],
   "source": [
    "jnp.mean(out_snl['mmd']), jnp.mean(out_tsnl['mmd'])"
   ]
  },
  {
   "cell_type": "code",
   "execution_count": null,
   "metadata": {},
   "outputs": [],
   "source": [
    "fig1, ax1 = plt.subplots(1, 5, figsize=(5, 1))\n",
    "\n",
    "for i in range(0, 5):\n",
    "\n",
    "    try:\n",
    "\n",
    "        ax1[i].hist(post_trials_snl[i].flatten(), bins=100, density=True)\n",
    "        ax1[i].axvline(x=true_cps_snl[i], color='r')\n",
    "\n",
    "    except:\n",
    "\n",
    "        print(f'No data for trial {i}')\n",
    "\n",
    "fig2, ax2 = plt.subplots(1, 5, figsize=(5, 1))\n",
    "\n",
    "for i in range(0, 5):\n",
    "\n",
    "    try:\n",
    "\n",
    "        ax2[i].hist(post_trials_tsnl[i].flatten(), bins=100, density=True)\n",
    "        ax2[i].axvline(x=true_cps_tsnl[i], color='r')\n",
    "\n",
    "    except:\n",
    "\n",
    "        print(f'No data for trial {i}')\n",
    "\n",
    "plt.show()"
   ]
  }
 ],
 "metadata": {
  "kernelspec": {
   "display_name": "jaxenv",
   "language": "python",
   "name": "python3"
  },
  "language_info": {
   "codemirror_mode": {
    "name": "ipython",
    "version": 3
   },
   "file_extension": ".py",
   "mimetype": "text/x-python",
   "name": "python",
   "nbconvert_exporter": "python",
   "pygments_lexer": "ipython3",
   "version": "3.11.6"
  }
 },
 "nbformat": 4,
 "nbformat_minor": 2
}
