{
 "cells": [
  {
   "cell_type": "code",
   "execution_count": 1,
   "metadata": {},
   "outputs": [],
   "source": [
    "import sys \n",
    "sys.path.append(r'/Users/kostastsampourakis/Desktop/code/Python/projects/neuralssm/src/neuralssm')\n",
    "import argparse\n",
    "import numpy as np\n",
    "import util.io\n",
    "import experiment_descriptor as ed\n",
    "import misc"
   ]
  },
  {
   "cell_type": "code",
   "execution_count": 2,
   "metadata": {},
   "outputs": [],
   "source": [
    "def parse_args():\n",
    "    \"\"\"\n",
    "    Returns an object describing the command line.\n",
    "    \"\"\"\n",
    "\n",
    "    parser = argparse.ArgumentParser(description='Likelihood-free inference experiments.')\n",
    "    subparsers = parser.add_subparsers()\n",
    "\n",
    "    parser_run = subparsers.add_parser('run', help='run experiments')\n",
    "    parser_run.add_argument('files', nargs='+', type=str, help='file(s) describing experiments')\n",
    "    parser_run.set_defaults(func=run_experiment)\n",
    "\n",
    "    parser_trials = subparsers.add_parser('trials', help='run multiple experiment trials')\n",
    "    parser_trials.add_argument('start', type=int, help='# of first trial')\n",
    "    parser_trials.add_argument('end', type=int, help='# of last trial')\n",
    "    parser_trials.add_argument('files', nargs='+', type=str, help='file(s) describing experiments')\n",
    "    parser_trials.set_defaults(func=run_trials)\n",
    "\n",
    "    parser_view = subparsers.add_parser('view', help='view results')\n",
    "    parser_view.add_argument('files', nargs='+', type=str, help='file(s) describing experiments')\n",
    "    parser_view.add_argument('-b', '--block', action='store_true', help='block execution after viewing each experiment')\n",
    "    parser_view.add_argument('-t', '--trial', type=int, default=0, help='trial to view (default is 0)')\n",
    "    parser_view.set_defaults(func=view_results)\n",
    "\n",
    "    parser_log = subparsers.add_parser('log', help='print experiment logs')\n",
    "    parser_log.add_argument('files', nargs='+', type=str, help='file(s) describing experiments')\n",
    "    parser_log.set_defaults(func=print_log)\n",
    "\n",
    "    return parser.parse_args()\n",
    "\n",
    "def run_experiment(args):\n",
    "    \"\"\"\n",
    "    Runs experiments.\n",
    "    \"\"\"\n",
    "\n",
    "    from experiment_runner import ExperimentRunner\n",
    "\n",
    "    exp_descs = sum([ed.parse(util.io.load_txt(f)) for f in args.files], [])\n",
    "\n",
    "    for exp_desc in exp_descs:\n",
    "\n",
    "        try:\n",
    "            print(1)\n",
    "            ExperimentRunner(exp_desc).run(trial=0, sample_gt=False, rng=np.random.RandomState(42))\n",
    "\n",
    "        except misc.AlreadyExistingExperiment:\n",
    "            print('EXPERIMENT ALREADY EXISTS')\n",
    "\n",
    "    print('ALL DONE')\n",
    "\n",
    "\n",
    "def run_trials(args):\n",
    "    \"\"\"\n",
    "    Runs experiments for multiple trials with random ground truth.\n",
    "    \"\"\"\n",
    "\n",
    "    from experiment_runner import ExperimentRunner\n",
    "\n",
    "    if args.start < 1:\n",
    "        raise ValueError('trial # must be a positive integer')\n",
    "\n",
    "    if args.end < args.start:\n",
    "        raise ValueError('end trial can''t be less than start trial')\n",
    "\n",
    "    exp_descs = sum([ed.parse(util.io.load_txt(f)) for f in args.files], [])\n",
    "\n",
    "    for exp_desc in exp_descs:\n",
    "\n",
    "        runner = ExperimentRunner(exp_desc)\n",
    "\n",
    "        for trial in range(args.start, args.end + 1):\n",
    "\n",
    "            try:\n",
    "                runner.run(trial=trial, sample_gt=True, rng=np.random)\n",
    "\n",
    "            except misc.AlreadyExistingExperiment:\n",
    "                print('EXPERIMENT ALREADY EXISTS')\n",
    "\n",
    "    print('ALL DONE')\n",
    "\n",
    "\n",
    "def view_results(args):\n",
    "    \"\"\"\n",
    "    Views experiments.\n",
    "    \"\"\"\n",
    "\n",
    "    from experiment_viewer import ExperimentViewer, plt\n",
    "\n",
    "    exp_descs = sum([ed.parse(util.io.load_txt(f)) for f in args.files], [])\n",
    "\n",
    "    for exp_desc in exp_descs:\n",
    "\n",
    "        try:\n",
    "            ExperimentViewer(exp_desc).view_results(trial=args.trial, block=args.block)\n",
    "\n",
    "        except misc.NonExistentExperiment:\n",
    "            print('EXPERIMENT DOES NOT EXIST')\n",
    "\n",
    "    plt.show()\n",
    "\n",
    "\n",
    "def print_log(args):\n",
    "    \"\"\"\n",
    "    Prints experiment logs.\n",
    "    \"\"\"\n",
    "\n",
    "    from experiment_viewer import ExperimentViewer\n",
    "\n",
    "    exp_descs = sum([ed.parse(util.io.load_txt(f)) for f in args.files], [])\n",
    "\n",
    "    for exp_desc in exp_descs:\n",
    "\n",
    "        try:\n",
    "            ExperimentViewer(exp_desc).print_log()\n",
    "\n",
    "        except misc.NonExistentExperiment:\n",
    "            print('EXPERIMENT DOES NOT EXIST')"
   ]
  },
  {
   "cell_type": "code",
   "execution_count": 3,
   "metadata": {},
   "outputs": [
    {
     "name": "stdout",
     "output_type": "stream",
     "text": [
      "1\n"
     ]
    },
    {
     "ename": "ModuleNotFoundError",
     "evalue": "No module named 'simulators'",
     "output_type": "error",
     "traceback": [
      "\u001b[0;31m---------------------------------------------------------------------------\u001b[0m",
      "\u001b[0;31mModuleNotFoundError\u001b[0m                       Traceback (most recent call last)",
      "Cell \u001b[0;32mIn[3], line 4\u001b[0m\n\u001b[1;32m      2\u001b[0m sys\u001b[38;5;241m.\u001b[39margv \u001b[38;5;241m=\u001b[39m [\u001b[38;5;124m'\u001b[39m\u001b[38;5;124m'\u001b[39m, \u001b[38;5;124m'\u001b[39m\u001b[38;5;124mrun\u001b[39m\u001b[38;5;124m'\u001b[39m, exp_file] \n\u001b[1;32m      3\u001b[0m args \u001b[38;5;241m=\u001b[39m parse_args()\n\u001b[0;32m----> 4\u001b[0m \u001b[43margs\u001b[49m\u001b[38;5;241;43m.\u001b[39;49m\u001b[43mfunc\u001b[49m\u001b[43m(\u001b[49m\u001b[43margs\u001b[49m\u001b[43m)\u001b[49m\n",
      "Cell \u001b[0;32mIn[2], line 44\u001b[0m, in \u001b[0;36mrun_experiment\u001b[0;34m(args)\u001b[0m\n\u001b[1;32m     42\u001b[0m \u001b[38;5;28;01mtry\u001b[39;00m:\n\u001b[1;32m     43\u001b[0m     \u001b[38;5;28mprint\u001b[39m(\u001b[38;5;241m1\u001b[39m)\n\u001b[0;32m---> 44\u001b[0m     \u001b[43mExperimentRunner\u001b[49m\u001b[43m(\u001b[49m\u001b[43mexp_desc\u001b[49m\u001b[43m)\u001b[49m\u001b[38;5;241m.\u001b[39mrun(trial\u001b[38;5;241m=\u001b[39m\u001b[38;5;241m0\u001b[39m, sample_gt\u001b[38;5;241m=\u001b[39m\u001b[38;5;28;01mFalse\u001b[39;00m, rng\u001b[38;5;241m=\u001b[39mnp\u001b[38;5;241m.\u001b[39mrandom\u001b[38;5;241m.\u001b[39mRandomState(\u001b[38;5;241m42\u001b[39m))\n\u001b[1;32m     46\u001b[0m \u001b[38;5;28;01mexcept\u001b[39;00m misc\u001b[38;5;241m.\u001b[39mAlreadyExistingExperiment:\n\u001b[1;32m     47\u001b[0m     \u001b[38;5;28mprint\u001b[39m(\u001b[38;5;124m'\u001b[39m\u001b[38;5;124mEXPERIMENT ALREADY EXISTS\u001b[39m\u001b[38;5;124m'\u001b[39m)\n",
      "File \u001b[0;32m~/Desktop/code/Python/projects/neuralssm/src/neuralssm/experiment_runner.py:32\u001b[0m, in \u001b[0;36mExperimentRunner.__init__\u001b[0;34m(self, exp_desc)\u001b[0m\n\u001b[1;32m     30\u001b[0m \u001b[38;5;28mself\u001b[39m\u001b[38;5;241m.\u001b[39mexp_desc \u001b[38;5;241m=\u001b[39m exp_desc\n\u001b[1;32m     31\u001b[0m \u001b[38;5;28mself\u001b[39m\u001b[38;5;241m.\u001b[39mexp_dir \u001b[38;5;241m=\u001b[39m os\u001b[38;5;241m.\u001b[39mpath\u001b[38;5;241m.\u001b[39mjoin(misc\u001b[38;5;241m.\u001b[39mget_root(), \u001b[38;5;124m'\u001b[39m\u001b[38;5;124mexperiments\u001b[39m\u001b[38;5;124m'\u001b[39m, exp_desc\u001b[38;5;241m.\u001b[39mget_dir())\n\u001b[0;32m---> 32\u001b[0m \u001b[38;5;28mself\u001b[39m\u001b[38;5;241m.\u001b[39msim \u001b[38;5;241m=\u001b[39m \u001b[43mmisc\u001b[49m\u001b[38;5;241;43m.\u001b[39;49m\u001b[43mget_simulator\u001b[49m\u001b[43m(\u001b[49m\u001b[43mexp_desc\u001b[49m\u001b[38;5;241;43m.\u001b[39;49m\u001b[43msim\u001b[49m\u001b[43m)\u001b[49m\n",
      "File \u001b[0;32m~/Desktop/code/Python/projects/neuralssm/src/neuralssm/misc.py:41\u001b[0m, in \u001b[0;36mget_simulator\u001b[0;34m(sim_desc)\u001b[0m\n\u001b[1;32m     38\u001b[0m     \u001b[38;5;28;01mimport\u001b[39;00m \u001b[38;5;21;01msimulators\u001b[39;00m\u001b[38;5;21;01m.\u001b[39;00m\u001b[38;5;21;01mmg1\u001b[39;00m \u001b[38;5;28;01mas\u001b[39;00m \u001b[38;5;21;01msim\u001b[39;00m\n\u001b[1;32m     40\u001b[0m \u001b[38;5;28;01melif\u001b[39;00m sim_desc \u001b[38;5;241m==\u001b[39m \u001b[38;5;124m'\u001b[39m\u001b[38;5;124mlotka_volterra\u001b[39m\u001b[38;5;124m'\u001b[39m:\n\u001b[0;32m---> 41\u001b[0m     \u001b[38;5;28;01mimport\u001b[39;00m \u001b[38;5;21;01msimulators\u001b[39;00m\u001b[38;5;21;01m.\u001b[39;00m\u001b[38;5;21;01mlotka_volterra\u001b[39;00m \u001b[38;5;28;01mas\u001b[39;00m \u001b[38;5;21;01msim\u001b[39;00m\n\u001b[1;32m     43\u001b[0m \u001b[38;5;28;01melif\u001b[39;00m sim_desc \u001b[38;5;241m==\u001b[39m \u001b[38;5;124m'\u001b[39m\u001b[38;5;124mgauss\u001b[39m\u001b[38;5;124m'\u001b[39m:\n\u001b[1;32m     44\u001b[0m     \u001b[38;5;28;01mimport\u001b[39;00m \u001b[38;5;21;01msimulators\u001b[39;00m\u001b[38;5;21;01m.\u001b[39;00m\u001b[38;5;21;01mgaussian\u001b[39;00m \u001b[38;5;28;01mas\u001b[39;00m \u001b[38;5;21;01msim\u001b[39;00m\n",
      "\u001b[0;31mModuleNotFoundError\u001b[0m: No module named 'simulators'"
     ]
    }
   ],
   "source": [
    "exp_file = '/Users/kostastsampourakis/Desktop/code/Python/projects/neuralssm/src/neuralssm/exps/lv_nl.txt'\n",
    "sys.argv = ['', 'run', exp_file] \n",
    "args = parse_args()\n",
    "args.func(args)"
   ]
  },
  {
   "cell_type": "code",
   "execution_count": 5,
   "metadata": {},
   "outputs": [],
   "source": [
    "# Simulate command line arguments\n",
    "import sys\n",
    "from experiment_runner import ExperimentRunner\n",
    "import experiment_descriptor as ed\n",
    "\n",
    "\n",
    "with open(exp_file) as f:\n",
    "    str = f.read()\n",
    "out = ed.parse(str)\n",
    "\n",
    "# print(out[0].pprint())\n",
    "\n",
    "# eds = run_experiment(args)\n",
    "# exp_descs = sum([ed.parse(util.io.load_txt(f)) for f in args.files], [])\n",
    "# print(exp_descs[0].pprint())\n",
    "# print(eds[2].pprint())\n",
    "# ExperimentRunner(exp_descs[0]).run(trial=0, sample_gt=False, rng=np.random.RandomState(42))\n",
    "# print(str)"
   ]
  },
  {
   "cell_type": "code",
   "execution_count": 6,
   "metadata": {},
   "outputs": [
    {
     "name": "stdout",
     "output_type": "stream",
     "text": [
      "ParamMeta(props=<parameters.ParamSSM object at 0x330f8f910>, prior=<parameters.ParamSSM object at 0x330f8dd50>)\n",
      "ParamMeta(props=<parameters.ParamSSM object at 0x330f8e190>, prior=<parameters.ParamSSM object at 0x330f8c2d0>)\n",
      "ParamMeta(props=<parameters.ParamSSM object at 0x330fbe550>, prior=<parameters.ParamSSM object at 0x330fbe2d0>)\n",
      "ParamMeta(props=<parameters.ParamSSM object at 0x330fdc590>, prior=<parameters.ParamSSM object at 0x330fbe8d0>)\n",
      "ParamMeta(props=<parameters.ParamSSM object at 0x330fdde90>, prior=<parameters.ParamSSM object at 0x330fdde50>)\n",
      "ParamMeta(props=<parameters.ParamSSM object at 0x330fdfe90>, prior=<parameters.ParamSSM object at 0x330fdf890>)\n",
      "ParamMeta(props=<parameters.ParamSSM object at 0x330fece50>, prior=<parameters.ParamSSM object at 0x330fed390>)\n"
     ]
    }
   ],
   "source": [
    "for i in range(len(out)):\n",
    "    print(out[i].param_meta)"
   ]
  },
  {
   "cell_type": "markdown",
   "metadata": {},
   "source": [
    "φορτωνω στο descriptor props και prior μεσα στο field param_meta."
   ]
  }
 ],
 "metadata": {
  "kernelspec": {
   "display_name": "jaxenv",
   "language": "python",
   "name": "python3"
  },
  "language_info": {
   "codemirror_mode": {
    "name": "ipython",
    "version": 3
   },
   "file_extension": ".py",
   "mimetype": "text/x-python",
   "name": "python",
   "nbconvert_exporter": "python",
   "pygments_lexer": "ipython3",
   "version": "3.11.6"
  }
 },
 "nbformat": 4,
 "nbformat_minor": 2
}
